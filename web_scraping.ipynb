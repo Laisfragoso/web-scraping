{
  "cells": [
    {
      "cell_type": "markdown",
      "metadata": {
        "id": "q8gU8UOMf0Oc"
      },
      "source": [
        "# Web Scraping"
      ]
    },
    {
      "cell_type": "markdown",
      "metadata": {
        "id": "zYvSVEOEf0Oo"
      },
      "source": [
        "O web scraping, também conhecido como extração de dados da web, é o processo de coletar dados estruturados em páginas da web de maneira automatizada."
      ]
    },
    {
      "cell_type": "code",
      "execution_count": null,
      "metadata": {
        "tags": [],
        "id": "chvC5onDf0Oq"
      },
      "outputs": [],
      "source": [
        "# Instalação das bibliotecas\n",
        "!pip install requests --quiet\n",
        "!pip install pandas --quiet\n",
        "!pip install beautifulsoup4 --quiet"
      ]
    },
    {
      "cell_type": "code",
      "execution_count": null,
      "metadata": {
        "id": "tKDfkI6Lf0Ov"
      },
      "outputs": [],
      "source": [
        "# Importando as bibliotecas\n",
        "import requests\n",
        "import numpy as np\n",
        "import pandas as pd\n",
        "from bs4 import BeautifulSoup\n",
        "import matplotlib.pyplot as plt"
      ]
    },
    {
      "cell_type": "code",
      "execution_count": null,
      "metadata": {
        "tags": [],
        "id": "SKzXmw4Nf0PU"
      },
      "outputs": [],
      "source": [
        "# URL com a tabela de dados\n",
        "url = \"https://www.fundamentus.com.br/proventos.php?papel=BBSE3&tipo=2\""
      ]
    },
    {
      "cell_type": "code",
      "execution_count": null,
      "metadata": {
        "id": "uUwq2dwXf0PW"
      },
      "outputs": [],
      "source": [
        "# Obtendo o conteúdo da página em formato de texto\n",
        "\n",
        "# https://stackoverflow.com/questions/68259148/getting-404-error-for-certain-stocks-and-pages-on-yahoo-finance-python\n",
        "headers = { \n",
        "    'User-Agent'      : 'Mozilla/5.0 (Windows NT 10.0; Win64; x64) AppleWebKit/537.36 (KHTML, like Gecko) Chrome/71.0.3578.98 Safari/537.36', \n",
        "    'Accept'          : 'text/html,application/xhtml+xml,application/xml;q=0.9,*/*;q=0.8', \n",
        "    'Accept-Language' : 'en-US,en;q=0.5',\n",
        "    'DNT'             : '1', # Do Not Track Request Header \n",
        "    'Connection'      : 'close'\n",
        "}\n",
        "data = requests.get(url, headers=headers, timeout=5).text\n",
        "soup = BeautifulSoup(data,\"html.parser\")"
      ]
    },
    {
      "cell_type": "code",
      "execution_count": null,
      "metadata": {
        "id": "okYPVgfcf0Pd"
      },
      "outputs": [],
      "source": [
        "# Procurando a tabela da página\n",
        "table = soup.find('table') # em html uma tabela é representada pela tag <table>"
      ]
    },
    {
      "cell_type": "code",
      "execution_count": null,
      "metadata": {
        "id": "sjPtkqKef0Pk"
      },
      "outputs": [],
      "source": [
        "# Definindo dataframe\n",
        "df = pd.DataFrame(columns=['Data', 'Valor', 'Tipo', 'Data de Pagamento', 'Por quantas ações'])"
      ]
    },
    {
      "cell_type": "code",
      "execution_count": null,
      "metadata": {
        "id": "i0_oAI90f0Pm",
        "outputId": "7fbaeef2-d864-4dc3-cf03-0e43862ba760"
      },
      "outputs": [
        {
          "data": {
            "text/html": [
              "<div>\n",
              "<style scoped>\n",
              "    .dataframe tbody tr th:only-of-type {\n",
              "        vertical-align: middle;\n",
              "    }\n",
              "\n",
              "    .dataframe tbody tr th {\n",
              "        vertical-align: top;\n",
              "    }\n",
              "\n",
              "    .dataframe thead th {\n",
              "        text-align: right;\n",
              "    }\n",
              "</style>\n",
              "<table border=\"1\" class=\"dataframe\">\n",
              "  <thead>\n",
              "    <tr style=\"text-align: right;\">\n",
              "      <th></th>\n",
              "      <th>Data</th>\n",
              "      <th>Valor</th>\n",
              "      <th>Tipo</th>\n",
              "      <th>Data de Pagamento</th>\n",
              "      <th>Por quantas ações</th>\n",
              "    </tr>\n",
              "  </thead>\n",
              "  <tbody>\n",
              "    <tr>\n",
              "      <th>0</th>\n",
              "      <td>10/02/2022</td>\n",
              "      <td>0,9172</td>\n",
              "      <td>DIVIDENDO</td>\n",
              "      <td>23/02/2022</td>\n",
              "      <td>1</td>\n",
              "    </tr>\n",
              "    <tr>\n",
              "      <th>1</th>\n",
              "      <td>11/08/2021</td>\n",
              "      <td>0,5209</td>\n",
              "      <td>DIVIDENDO</td>\n",
              "      <td>23/08/2021</td>\n",
              "      <td>1</td>\n",
              "    </tr>\n",
              "    <tr>\n",
              "      <th>2</th>\n",
              "      <td>11/02/2021</td>\n",
              "      <td>0,4748</td>\n",
              "      <td>DIVIDENDO</td>\n",
              "      <td>25/02/2021</td>\n",
              "      <td>1</td>\n",
              "    </tr>\n",
              "    <tr>\n",
              "      <th>3</th>\n",
              "      <td>12/08/2020</td>\n",
              "      <td>0,8753</td>\n",
              "      <td>DIVIDENDO</td>\n",
              "      <td>24/08/2020</td>\n",
              "      <td>1</td>\n",
              "    </tr>\n",
              "    <tr>\n",
              "      <th>4</th>\n",
              "      <td>13/02/2020</td>\n",
              "      <td>1,8984</td>\n",
              "      <td>DIVIDENDO</td>\n",
              "      <td>27/02/2020</td>\n",
              "      <td>1</td>\n",
              "    </tr>\n",
              "    <tr>\n",
              "      <th>5</th>\n",
              "      <td>09/01/2020</td>\n",
              "      <td>1,3523</td>\n",
              "      <td>REST CAP DIN</td>\n",
              "      <td>30/04/2020</td>\n",
              "      <td>1</td>\n",
              "    </tr>\n",
              "    <tr>\n",
              "      <th>6</th>\n",
              "      <td>09/08/2019</td>\n",
              "      <td>0,8907</td>\n",
              "      <td>DIVIDENDO</td>\n",
              "      <td>21/08/2019</td>\n",
              "      <td>1</td>\n",
              "    </tr>\n",
              "    <tr>\n",
              "      <th>7</th>\n",
              "      <td>14/02/2019</td>\n",
              "      <td>0,6772</td>\n",
              "      <td>DIVIDENDO</td>\n",
              "      <td>26/02/2019</td>\n",
              "      <td>1</td>\n",
              "    </tr>\n",
              "    <tr>\n",
              "      <th>8</th>\n",
              "      <td>11/12/2018</td>\n",
              "      <td>1,3523</td>\n",
              "      <td>DIVIDENDO</td>\n",
              "      <td>02/01/2019</td>\n",
              "      <td>1</td>\n",
              "    </tr>\n",
              "    <tr>\n",
              "      <th>9</th>\n",
              "      <td>09/08/2018</td>\n",
              "      <td>0,7809</td>\n",
              "      <td>DIVIDENDO</td>\n",
              "      <td>21/08/2018</td>\n",
              "      <td>1</td>\n",
              "    </tr>\n",
              "    <tr>\n",
              "      <th>10</th>\n",
              "      <td>22/02/2018</td>\n",
              "      <td>0,9467</td>\n",
              "      <td>DIVIDENDO</td>\n",
              "      <td>06/03/2018</td>\n",
              "      <td>1</td>\n",
              "    </tr>\n",
              "    <tr>\n",
              "      <th>11</th>\n",
              "      <td>10/08/2017</td>\n",
              "      <td>0,7810</td>\n",
              "      <td>DIVIDENDO</td>\n",
              "      <td>-</td>\n",
              "      <td>1</td>\n",
              "    </tr>\n",
              "    <tr>\n",
              "      <th>12</th>\n",
              "      <td>16/02/2017</td>\n",
              "      <td>0,8358</td>\n",
              "      <td>DIVIDENDO</td>\n",
              "      <td>-</td>\n",
              "      <td>1</td>\n",
              "    </tr>\n",
              "    <tr>\n",
              "      <th>13</th>\n",
              "      <td>11/08/2016</td>\n",
              "      <td>0,8191</td>\n",
              "      <td>DIVIDENDO</td>\n",
              "      <td>-</td>\n",
              "      <td>1</td>\n",
              "    </tr>\n",
              "    <tr>\n",
              "      <th>14</th>\n",
              "      <td>23/02/2016</td>\n",
              "      <td>0,8334</td>\n",
              "      <td>DIVIDENDO</td>\n",
              "      <td>-</td>\n",
              "      <td>1</td>\n",
              "    </tr>\n",
              "    <tr>\n",
              "      <th>15</th>\n",
              "      <td>12/08/2015</td>\n",
              "      <td>0,8791</td>\n",
              "      <td>DIVIDENDO</td>\n",
              "      <td>-</td>\n",
              "      <td>1</td>\n",
              "    </tr>\n",
              "    <tr>\n",
              "      <th>16</th>\n",
              "      <td>12/02/2015</td>\n",
              "      <td>0,7956</td>\n",
              "      <td>Dividendo</td>\n",
              "      <td>-</td>\n",
              "      <td>1</td>\n",
              "    </tr>\n",
              "    <tr>\n",
              "      <th>17</th>\n",
              "      <td>18/08/2014</td>\n",
              "      <td>0,5977</td>\n",
              "      <td>DIVIDENDO</td>\n",
              "      <td>-</td>\n",
              "      <td>1</td>\n",
              "    </tr>\n",
              "    <tr>\n",
              "      <th>18</th>\n",
              "      <td>14/02/2014</td>\n",
              "      <td>0,5806</td>\n",
              "      <td>DIVIDENDO</td>\n",
              "      <td>-</td>\n",
              "      <td>1</td>\n",
              "    </tr>\n",
              "    <tr>\n",
              "      <th>19</th>\n",
              "      <td>19/08/2013</td>\n",
              "      <td>0,4089</td>\n",
              "      <td>DIVIDENDO</td>\n",
              "      <td>-</td>\n",
              "      <td>1</td>\n",
              "    </tr>\n",
              "  </tbody>\n",
              "</table>\n",
              "</div>"
            ],
            "text/plain": [
              "          Data   Valor          Tipo Data de Pagamento Por quantas ações\n",
              "0   10/02/2022  0,9172     DIVIDENDO        23/02/2022                 1\n",
              "1   11/08/2021  0,5209     DIVIDENDO        23/08/2021                 1\n",
              "2   11/02/2021  0,4748     DIVIDENDO        25/02/2021                 1\n",
              "3   12/08/2020  0,8753     DIVIDENDO        24/08/2020                 1\n",
              "4   13/02/2020  1,8984     DIVIDENDO        27/02/2020                 1\n",
              "5   09/01/2020  1,3523  REST CAP DIN        30/04/2020                 1\n",
              "6   09/08/2019  0,8907     DIVIDENDO        21/08/2019                 1\n",
              "7   14/02/2019  0,6772     DIVIDENDO        26/02/2019                 1\n",
              "8   11/12/2018  1,3523     DIVIDENDO        02/01/2019                 1\n",
              "9   09/08/2018  0,7809     DIVIDENDO        21/08/2018                 1\n",
              "10  22/02/2018  0,9467     DIVIDENDO        06/03/2018                 1\n",
              "11  10/08/2017  0,7810     DIVIDENDO                 -                 1\n",
              "12  16/02/2017  0,8358     DIVIDENDO                 -                 1\n",
              "13  11/08/2016  0,8191     DIVIDENDO                 -                 1\n",
              "14  23/02/2016  0,8334     DIVIDENDO                 -                 1\n",
              "15  12/08/2015  0,8791     DIVIDENDO                 -                 1\n",
              "16  12/02/2015  0,7956     Dividendo                 -                 1\n",
              "17  18/08/2014  0,5977     DIVIDENDO                 -                 1\n",
              "18  14/02/2014  0,5806     DIVIDENDO                 -                 1\n",
              "19  19/08/2013  0,4089     DIVIDENDO                 -                 1"
            ]
          },
          "execution_count": 7,
          "metadata": {},
          "output_type": "execute_result"
        }
      ],
      "source": [
        "# Obtendo todas as linhas da tabela\n",
        "for row in table.tbody.find_all('tr'): # em html uma linha da tabela é representada pela tag <tr>\n",
        "    # Obtendo todas as colunas em cada linha\n",
        "    columns = row.find_all('td')  # em html uma coluna da tabela é representada pela tag <td>\n",
        "    if(columns != []):\n",
        "        data = columns[0].text.strip(' ')\n",
        "        valor = columns[1].text.strip(' ')\n",
        "        tipo = columns[2].text.strip(' ')\n",
        "        data_pagamento = columns[3].text.strip(' ')\n",
        "        quantidade_acoes = columns[4].text.strip(' ')\n",
        "        df = pd.concat([df, pd.DataFrame.from_records([{'Data': data,  'Valor': valor, 'Tipo': tipo, 'Data de Pagamento': data_pagamento, 'Por quantas ações': quantidade_acoes}])], ignore_index=True)\n",
        "        \n",
        "df.head(20)"
      ]
    },
    {
      "cell_type": "code",
      "execution_count": null,
      "metadata": {
        "id": "4N8tXjzwf0Pr",
        "outputId": "53f0fed1-8283-4f16-861e-0059d7c78fdf"
      },
      "outputs": [
        {
          "data": {
            "text/html": [
              "<div>\n",
              "<style scoped>\n",
              "    .dataframe tbody tr th:only-of-type {\n",
              "        vertical-align: middle;\n",
              "    }\n",
              "\n",
              "    .dataframe tbody tr th {\n",
              "        vertical-align: top;\n",
              "    }\n",
              "\n",
              "    .dataframe thead th {\n",
              "        text-align: right;\n",
              "    }\n",
              "</style>\n",
              "<table border=\"1\" class=\"dataframe\">\n",
              "  <thead>\n",
              "    <tr style=\"text-align: right;\">\n",
              "      <th></th>\n",
              "      <th>Data</th>\n",
              "      <th>Valor</th>\n",
              "      <th>Tipo</th>\n",
              "      <th>Data de Pagamento</th>\n",
              "      <th>Por quantas ações</th>\n",
              "    </tr>\n",
              "  </thead>\n",
              "  <tbody>\n",
              "    <tr>\n",
              "      <th>0</th>\n",
              "      <td>2022-02-10</td>\n",
              "      <td>0.9172</td>\n",
              "      <td>DIVIDENDO</td>\n",
              "      <td>2022-02-23</td>\n",
              "      <td>1</td>\n",
              "    </tr>\n",
              "    <tr>\n",
              "      <th>1</th>\n",
              "      <td>2021-08-11</td>\n",
              "      <td>0.5209</td>\n",
              "      <td>DIVIDENDO</td>\n",
              "      <td>2021-08-23</td>\n",
              "      <td>1</td>\n",
              "    </tr>\n",
              "    <tr>\n",
              "      <th>2</th>\n",
              "      <td>2021-02-11</td>\n",
              "      <td>0.4748</td>\n",
              "      <td>DIVIDENDO</td>\n",
              "      <td>2021-02-25</td>\n",
              "      <td>1</td>\n",
              "    </tr>\n",
              "    <tr>\n",
              "      <th>3</th>\n",
              "      <td>2020-08-12</td>\n",
              "      <td>0.8753</td>\n",
              "      <td>DIVIDENDO</td>\n",
              "      <td>2020-08-24</td>\n",
              "      <td>1</td>\n",
              "    </tr>\n",
              "    <tr>\n",
              "      <th>4</th>\n",
              "      <td>2020-02-13</td>\n",
              "      <td>1.8984</td>\n",
              "      <td>DIVIDENDO</td>\n",
              "      <td>2020-02-27</td>\n",
              "      <td>1</td>\n",
              "    </tr>\n",
              "    <tr>\n",
              "      <th>5</th>\n",
              "      <td>2020-01-09</td>\n",
              "      <td>1.3523</td>\n",
              "      <td>REST CAP DIN</td>\n",
              "      <td>2020-04-30</td>\n",
              "      <td>1</td>\n",
              "    </tr>\n",
              "    <tr>\n",
              "      <th>6</th>\n",
              "      <td>2019-08-09</td>\n",
              "      <td>0.8907</td>\n",
              "      <td>DIVIDENDO</td>\n",
              "      <td>2019-08-21</td>\n",
              "      <td>1</td>\n",
              "    </tr>\n",
              "    <tr>\n",
              "      <th>7</th>\n",
              "      <td>2019-02-14</td>\n",
              "      <td>0.6772</td>\n",
              "      <td>DIVIDENDO</td>\n",
              "      <td>2019-02-26</td>\n",
              "      <td>1</td>\n",
              "    </tr>\n",
              "    <tr>\n",
              "      <th>8</th>\n",
              "      <td>2018-12-11</td>\n",
              "      <td>1.3523</td>\n",
              "      <td>DIVIDENDO</td>\n",
              "      <td>2019-01-02</td>\n",
              "      <td>1</td>\n",
              "    </tr>\n",
              "    <tr>\n",
              "      <th>9</th>\n",
              "      <td>2018-08-09</td>\n",
              "      <td>0.7809</td>\n",
              "      <td>DIVIDENDO</td>\n",
              "      <td>2018-08-21</td>\n",
              "      <td>1</td>\n",
              "    </tr>\n",
              "    <tr>\n",
              "      <th>10</th>\n",
              "      <td>2018-02-22</td>\n",
              "      <td>0.9467</td>\n",
              "      <td>DIVIDENDO</td>\n",
              "      <td>2018-03-06</td>\n",
              "      <td>1</td>\n",
              "    </tr>\n",
              "    <tr>\n",
              "      <th>11</th>\n",
              "      <td>2017-08-10</td>\n",
              "      <td>0.7810</td>\n",
              "      <td>DIVIDENDO</td>\n",
              "      <td>-</td>\n",
              "      <td>1</td>\n",
              "    </tr>\n",
              "    <tr>\n",
              "      <th>12</th>\n",
              "      <td>2017-02-16</td>\n",
              "      <td>0.8358</td>\n",
              "      <td>DIVIDENDO</td>\n",
              "      <td>-</td>\n",
              "      <td>1</td>\n",
              "    </tr>\n",
              "    <tr>\n",
              "      <th>13</th>\n",
              "      <td>2016-08-11</td>\n",
              "      <td>0.8191</td>\n",
              "      <td>DIVIDENDO</td>\n",
              "      <td>-</td>\n",
              "      <td>1</td>\n",
              "    </tr>\n",
              "    <tr>\n",
              "      <th>14</th>\n",
              "      <td>2016-02-23</td>\n",
              "      <td>0.8334</td>\n",
              "      <td>DIVIDENDO</td>\n",
              "      <td>-</td>\n",
              "      <td>1</td>\n",
              "    </tr>\n",
              "    <tr>\n",
              "      <th>15</th>\n",
              "      <td>2015-08-12</td>\n",
              "      <td>0.8791</td>\n",
              "      <td>DIVIDENDO</td>\n",
              "      <td>-</td>\n",
              "      <td>1</td>\n",
              "    </tr>\n",
              "    <tr>\n",
              "      <th>16</th>\n",
              "      <td>2015-02-12</td>\n",
              "      <td>0.7956</td>\n",
              "      <td>DIVIDENDO</td>\n",
              "      <td>-</td>\n",
              "      <td>1</td>\n",
              "    </tr>\n",
              "    <tr>\n",
              "      <th>17</th>\n",
              "      <td>2014-08-18</td>\n",
              "      <td>0.5977</td>\n",
              "      <td>DIVIDENDO</td>\n",
              "      <td>-</td>\n",
              "      <td>1</td>\n",
              "    </tr>\n",
              "    <tr>\n",
              "      <th>18</th>\n",
              "      <td>2014-02-14</td>\n",
              "      <td>0.5806</td>\n",
              "      <td>DIVIDENDO</td>\n",
              "      <td>-</td>\n",
              "      <td>1</td>\n",
              "    </tr>\n",
              "    <tr>\n",
              "      <th>19</th>\n",
              "      <td>2013-08-19</td>\n",
              "      <td>0.4089</td>\n",
              "      <td>DIVIDENDO</td>\n",
              "      <td>-</td>\n",
              "      <td>1</td>\n",
              "    </tr>\n",
              "  </tbody>\n",
              "</table>\n",
              "</div>"
            ],
            "text/plain": [
              "         Data   Valor          Tipo Data de Pagamento  Por quantas ações\n",
              "0  2022-02-10  0.9172     DIVIDENDO        2022-02-23                  1\n",
              "1  2021-08-11  0.5209     DIVIDENDO        2021-08-23                  1\n",
              "2  2021-02-11  0.4748     DIVIDENDO        2021-02-25                  1\n",
              "3  2020-08-12  0.8753     DIVIDENDO        2020-08-24                  1\n",
              "4  2020-02-13  1.8984     DIVIDENDO        2020-02-27                  1\n",
              "5  2020-01-09  1.3523  REST CAP DIN        2020-04-30                  1\n",
              "6  2019-08-09  0.8907     DIVIDENDO        2019-08-21                  1\n",
              "7  2019-02-14  0.6772     DIVIDENDO        2019-02-26                  1\n",
              "8  2018-12-11  1.3523     DIVIDENDO        2019-01-02                  1\n",
              "9  2018-08-09  0.7809     DIVIDENDO        2018-08-21                  1\n",
              "10 2018-02-22  0.9467     DIVIDENDO        2018-03-06                  1\n",
              "11 2017-08-10  0.7810     DIVIDENDO                 -                  1\n",
              "12 2017-02-16  0.8358     DIVIDENDO                 -                  1\n",
              "13 2016-08-11  0.8191     DIVIDENDO                 -                  1\n",
              "14 2016-02-23  0.8334     DIVIDENDO                 -                  1\n",
              "15 2015-08-12  0.8791     DIVIDENDO                 -                  1\n",
              "16 2015-02-12  0.7956     DIVIDENDO                 -                  1\n",
              "17 2014-08-18  0.5977     DIVIDENDO                 -                  1\n",
              "18 2014-02-14  0.5806     DIVIDENDO                 -                  1\n",
              "19 2013-08-19  0.4089     DIVIDENDO                 -                  1"
            ]
          },
          "execution_count": 8,
          "metadata": {},
          "output_type": "execute_result"
        }
      ],
      "source": [
        "# Refatorando o dataframe\n",
        "\n",
        "# Data\n",
        "df['Data'] = pd.to_datetime(df['Data'], format=\"%d/%m/%Y\", errors='ignore')\n",
        "\n",
        "# Valor\n",
        "df['Valor'] = [x.replace(',', '.') for x in df['Valor']]\n",
        "df = df.astype({\"Valor\": float})\n",
        "\n",
        "# Data de Pagamento\n",
        "temp = pd.to_datetime(df[\"Data de Pagamento\"], format=\"%d/%m/%Y\", errors='coerce')\n",
        "df[\"Data de Pagamento\"] = df[\"Data de Pagamento\"].where(temp.isna(), temp.dt.date)\n",
        "\n",
        "# Tipo\n",
        "df['Tipo'] = df['Tipo'].str.upper()\n",
        "\n",
        "# Por quantas ações\n",
        "df = df.astype({\"Por quantas ações\": int})\n",
        "\n",
        "df.head(20)"
      ]
    },
    {
      "cell_type": "code",
      "execution_count": null,
      "metadata": {
        "id": "Ya71ARoff0Pv",
        "outputId": "b5bb8775-acaa-4c3a-8cea-2299f75ebd7d"
      },
      "outputs": [
        {
          "data": {
            "image/png": "[encoded data removed]",
            "text/plain": [
              "<Figure size 432x288 with 1 Axes>"
            ]
          },
          "metadata": {
            "needs_background": "light"
          },
          "output_type": "display_data"
        }
      ],
      "source": [
        "# Gráfico de proventos\n",
        "plt.plot(df['Data'], df['Valor']/df['Por quantas ações'], label='BBSE3')\n",
        "plt.title(\"Proventos por cada ação de BBSE3\")\n",
        "plt.ylabel(\"Valor Recebido (R$)\")\n",
        "plt.xlabel(\"Ano\")\n",
        "plt.legend()\n",
        "plt.show()"
      ]
    },
    {
      "cell_type": "code",
      "execution_count": null,
      "metadata": {
        "id": "jHtFkDogf0Pw",
        "outputId": "502e288e-d050-4fa1-ed1c-a70268a32469"
      },
      "outputs": [
        {
          "data": {
            "image/png": "[encoded data removed]",
            "text/plain": [
              "<Figure size 432x288 with 1 Axes>"
            ]
          },
          "metadata": {
            "needs_background": "light"
          },
          "output_type": "display_data"
        }
      ],
      "source": [
        "# Gráfico de proventos anuais\n",
        "df_anual = df.set_index('Data')\n",
        "dividendos = (df_anual['Valor']/df_anual['Por quantas ações']).resample('Y').sum()\n",
        "plt.plot(dividendos.index.year[:-1], dividendos[:-1], label='BBSE3')\n",
        "plt.title(\"Proventos anuais por cada ação de BBSE3\")\n",
        "plt.ylabel(\"Valor Recebido (R$)\")\n",
        "plt.xlabel(\"Ano\")\n",
        "plt.legend()\n",
        "plt.show()"
      ]
    },
    {
      "cell_type": "code",
      "execution_count": null,
      "metadata": {
        "id": "lvX_DumNf0Pz"
      },
      "outputs": [],
      "source": [
        "# Exportando dados\n",
        "df.to_csv('bbse3.csv', index=False)"
      ]
    },
    {
      "cell_type": "markdown",
      "metadata": {
        "tags": [],
        "id": "H4fZjE0Zf0P0"
      },
      "source": [
        "# Autor\n",
        "\n",
        "<a href=\"https://www.youtube.com/channel/UCa-d0hwYHOu6ehwc_oMjOoA\" target=\"_blank\">Alcides Lino (canal Programação e Liberdade)</a>"
      ]
    },
    {
      "cell_type": "markdown",
      "metadata": {
        "id": "U4ZT0Xfjf0P0"
      },
      "source": [
        "---"
      ]
    },
    {
      "cell_type": "markdown",
      "metadata": {
        "tags": [],
        "id": "prOP1pGAf0P1"
      },
      "source": [
        "# Registro de Alterações (*Change Log*)"
      ]
    },
    {
      "cell_type": "markdown",
      "metadata": {
        "tags": [],
        "id": "QPdz1vgzf0P3"
      },
      "source": [
        "| Data (DD/MM/YYYY) | Versão  | Alterado Por | Descrição da Mudança                |\n",
        "| ----------------- | ------- | ------------ | ----------------------------------- |\n",
        "| 08/04/2022        | 1.0     | Alcides      | Versão inicial                      |"
      ]
    },
    {
      "cell_type": "code",
      "source": [],
      "metadata": {
        "id": "UwwOiRMCu3JN"
      },
      "execution_count": null,
      "outputs": []
    }
  ],
  "metadata": {
    "interpreter": {
      "hash": "ac59ebe37160ed0dfa835113d9b8498d9f09ceb179beaac4002f036b9467c963"
    },
    "kernelspec": {
      "display_name": "Python 3 (ipykernel)",
      "language": "python",
      "name": "python3"
    },
    "language_info": {
      "codemirror_mode": {
        "name": "ipython",
        "version": 3
      },
      "file_extension": ".py",
      "mimetype": "text/x-python",
      "name": "python",
      "nbconvert_exporter": "python",
      "pygments_lexer": "ipython3",
      "version": "3.10.3"
    },
    "colab": {
      "provenance": []
    }
  },
  "nbformat": 4,
  "nbformat_minor": 0
}